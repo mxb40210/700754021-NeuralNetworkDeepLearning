{
 "cells": [
  {
   "cell_type": "markdown",
   "source": [
    "# Assignment-4 :: ICP-4"
   ],
   "metadata": {
    "collapsed": false
   },
   "id": "b6035a7503070814"
  },
  {
   "cell_type": "markdown",
   "source": [
    "## 1. Data Manipulation"
   ],
   "metadata": {
    "collapsed": false
   },
   "id": "eaac7ab059fbaca8"
  },
  {
   "cell_type": "code",
   "execution_count": 20,
   "outputs": [],
   "source": [
    "# Imports\n",
    "import pandas as pd"
   ],
   "metadata": {
    "collapsed": false,
    "ExecuteTime": {
     "end_time": "2024-01-31T03:04:57.095462Z",
     "start_time": "2024-01-31T03:04:57.093291Z"
    }
   },
   "id": "505476e193633f63"
  },
  {
   "cell_type": "code",
   "execution_count": 21,
   "outputs": [
    {
     "data": {
      "text/plain": "(169, 4)"
     },
     "execution_count": 21,
     "metadata": {},
     "output_type": "execute_result"
    }
   ],
   "source": [
    "# a. Read the provided CSV file ‘data.csv’\n",
    "\n",
    "# Path of the csv\n",
    "data_path = 'data/data.csv'\n",
    "\n",
    "# Read csv using pandas\n",
    "data_df = pd.read_csv(data_path)\n",
    "\n",
    "# Shape (rows, columns)\n",
    "data_df.shape"
   ],
   "metadata": {
    "collapsed": false,
    "ExecuteTime": {
     "end_time": "2024-01-31T03:05:09.760785Z",
     "start_time": "2024-01-31T03:05:09.737184Z"
    }
   },
   "id": "cc5216108f1eba2b"
  },
  {
   "cell_type": "code",
   "execution_count": 22,
   "outputs": [
    {
     "data": {
      "text/plain": "         Duration       Pulse    Maxpulse     Calories\ncount  169.000000  169.000000  169.000000   164.000000\nmean    63.846154  107.461538  134.047337   375.790244\nstd     42.299949   14.510259   16.450434   266.379919\nmin     15.000000   80.000000  100.000000    50.300000\n25%     45.000000  100.000000  124.000000   250.925000\n50%     60.000000  105.000000  131.000000   318.600000\n75%     60.000000  111.000000  141.000000   387.600000\nmax    300.000000  159.000000  184.000000  1860.400000",
      "text/html": "<div>\n<style scoped>\n    .dataframe tbody tr th:only-of-type {\n        vertical-align: middle;\n    }\n\n    .dataframe tbody tr th {\n        vertical-align: top;\n    }\n\n    .dataframe thead th {\n        text-align: right;\n    }\n</style>\n<table border=\"1\" class=\"dataframe\">\n  <thead>\n    <tr style=\"text-align: right;\">\n      <th></th>\n      <th>Duration</th>\n      <th>Pulse</th>\n      <th>Maxpulse</th>\n      <th>Calories</th>\n    </tr>\n  </thead>\n  <tbody>\n    <tr>\n      <th>count</th>\n      <td>169.000000</td>\n      <td>169.000000</td>\n      <td>169.000000</td>\n      <td>164.000000</td>\n    </tr>\n    <tr>\n      <th>mean</th>\n      <td>63.846154</td>\n      <td>107.461538</td>\n      <td>134.047337</td>\n      <td>375.790244</td>\n    </tr>\n    <tr>\n      <th>std</th>\n      <td>42.299949</td>\n      <td>14.510259</td>\n      <td>16.450434</td>\n      <td>266.379919</td>\n    </tr>\n    <tr>\n      <th>min</th>\n      <td>15.000000</td>\n      <td>80.000000</td>\n      <td>100.000000</td>\n      <td>50.300000</td>\n    </tr>\n    <tr>\n      <th>25%</th>\n      <td>45.000000</td>\n      <td>100.000000</td>\n      <td>124.000000</td>\n      <td>250.925000</td>\n    </tr>\n    <tr>\n      <th>50%</th>\n      <td>60.000000</td>\n      <td>105.000000</td>\n      <td>131.000000</td>\n      <td>318.600000</td>\n    </tr>\n    <tr>\n      <th>75%</th>\n      <td>60.000000</td>\n      <td>111.000000</td>\n      <td>141.000000</td>\n      <td>387.600000</td>\n    </tr>\n    <tr>\n      <th>max</th>\n      <td>300.000000</td>\n      <td>159.000000</td>\n      <td>184.000000</td>\n      <td>1860.400000</td>\n    </tr>\n  </tbody>\n</table>\n</div>"
     },
     "execution_count": 22,
     "metadata": {},
     "output_type": "execute_result"
    }
   ],
   "source": [
    "# c. Show the basic statistical description about the data.\n",
    "data_df.describe()"
   ],
   "metadata": {
    "collapsed": false,
    "ExecuteTime": {
     "end_time": "2024-01-31T03:05:18.365265Z",
     "start_time": "2024-01-31T03:05:18.323491Z"
    }
   },
   "id": "1498bbfd3c686549"
  },
  {
   "cell_type": "code",
   "execution_count": 23,
   "outputs": [
    {
     "data": {
      "text/plain": "Duration    0\nPulse       0\nMaxpulse    0\nCalories    5\ndtype: int64"
     },
     "execution_count": 23,
     "metadata": {},
     "output_type": "execute_result"
    }
   ],
   "source": [
    "# d. Check if the data has null values.\n",
    "data_df.isnull().sum()"
   ],
   "metadata": {
    "collapsed": false,
    "ExecuteTime": {
     "end_time": "2024-01-31T03:05:29.315598Z",
     "start_time": "2024-01-31T03:05:29.307795Z"
    }
   },
   "id": "cdba2d3c5ebc7167"
  },
  {
   "cell_type": "code",
   "execution_count": 24,
   "outputs": [
    {
     "data": {
      "text/plain": "Duration    0\nPulse       0\nMaxpulse    0\nCalories    0\ndtype: int64"
     },
     "execution_count": 24,
     "metadata": {},
     "output_type": "execute_result"
    }
   ],
   "source": [
    "# i. Replace null values with the mean\n",
    "data_df.fillna(data_df.mean(), inplace=True)\n",
    "\n",
    "data_df.isnull().sum()"
   ],
   "metadata": {
    "collapsed": false,
    "ExecuteTime": {
     "end_time": "2024-01-31T03:05:43.252027Z",
     "start_time": "2024-01-31T03:05:43.240927Z"
    }
   },
   "id": "ba47b74c5ecb3765"
  },
  {
   "cell_type": "code",
   "execution_count": 25,
   "outputs": [
    {
     "name": "stdout",
     "output_type": "stream",
     "text": [
      "         Duration     Calories\n",
      "min     15.000000    50.300000\n",
      "max    300.000000  1860.400000\n",
      "count  169.000000   169.000000\n",
      "mean    63.846154   375.790244\n"
     ]
    }
   ],
   "source": [
    "# e. Select at least two columns and aggregate the data using: min, max, count, mean.\n",
    "\n",
    "# Select two columns in a list - Duration & Calories\n",
    "aggregate_columns = ['Duration', 'Calories']\n",
    "\n",
    "# Aggregate the data by min, max, count, mean for these two columns\n",
    "aggregated_data = data_df[aggregate_columns].agg(['min', 'max', 'count', 'mean'])\n",
    "\n",
    "# Print the aggregated\n",
    "print(aggregated_data)"
   ],
   "metadata": {
    "collapsed": false,
    "ExecuteTime": {
     "end_time": "2024-01-31T03:05:58.406728Z",
     "start_time": "2024-01-31T03:05:58.373853Z"
    }
   },
   "id": "4cecb955f67ea31a"
  },
  {
   "cell_type": "code",
   "execution_count": 26,
   "outputs": [
    {
     "name": "stdout",
     "output_type": "stream",
     "text": [
      "     Duration  Pulse  Maxpulse  Calories\n",
      "51         80    123       146     643.1\n",
      "62        160    109       135     853.0\n",
      "65        180     90       130     800.4\n",
      "66        150    105       135     873.4\n",
      "67        150    107       130     816.0\n",
      "72         90    100       127     700.0\n",
      "73        150     97       127     953.2\n",
      "75         90     98       125     563.2\n",
      "78        120    100       130     500.4\n",
      "83        120    100       130     500.0\n",
      "90        180    101       127     600.1\n",
      "99         90     93       124     604.1\n",
      "101        90     90       110     500.0\n",
      "102        90     90       100     500.0\n",
      "103        90     90       100     500.4\n",
      "106       180     90       120     800.3\n",
      "108        90     90       120     500.3\n"
     ]
    }
   ],
   "source": [
    "# f. Filter the dataframe to select the rows with calories values between 500 and 1000.\n",
    "filtered_data_by_calories = data_df[(data_df['Calories'] >= 500) & (data_df['Calories'] <= 1000)]\n",
    "print(filtered_data_by_calories)"
   ],
   "metadata": {
    "collapsed": false,
    "ExecuteTime": {
     "end_time": "2024-01-31T03:06:24.693231Z",
     "start_time": "2024-01-31T03:06:24.674077Z"
    }
   },
   "id": "f55089302d39cb1a"
  },
  {
   "cell_type": "code",
   "execution_count": 27,
   "outputs": [
    {
     "name": "stdout",
     "output_type": "stream",
     "text": [
      "     Duration  Pulse  Maxpulse  Calories\n",
      "65        180     90       130     800.4\n",
      "70        150     97       129    1115.0\n",
      "73        150     97       127     953.2\n",
      "75         90     98       125     563.2\n",
      "99         90     93       124     604.1\n",
      "103        90     90       100     500.4\n",
      "106       180     90       120     800.3\n",
      "108        90     90       120     500.3\n"
     ]
    }
   ],
   "source": [
    "# g. Filter the dataframe to select the rows with calories values > 500 and pulse < 100.\n",
    "filtered_data_df = data_df[(data_df['Calories'] > 500) & (data_df['Pulse'] < 100)]\n",
    "print(filtered_data_df)"
   ],
   "metadata": {
    "collapsed": false,
    "ExecuteTime": {
     "end_time": "2024-01-31T03:06:46.237679Z",
     "start_time": "2024-01-31T03:06:46.230139Z"
    }
   },
   "id": "3f9c8ce84bee6e62"
  },
  {
   "cell_type": "code",
   "execution_count": 28,
   "outputs": [
    {
     "name": "stdout",
     "output_type": "stream",
     "text": [
      "data_df columns: Index(['Duration', 'Pulse', 'Maxpulse', 'Calories'], dtype='object')\n",
      "df_modified columns: Index(['Duration', 'Pulse', 'Calories'], dtype='object')\n"
     ]
    }
   ],
   "source": [
    "# h. Create a new “df_modified” dataframe that contains all the columns from df except for “Maxpulse”.\n",
    "df_modified = data_df.drop(columns=['Maxpulse'])\n",
    "print('data_df columns: {}'.format(data_df.columns))\n",
    "print('df_modified columns: {}'.format(df_modified.columns))"
   ],
   "metadata": {
    "collapsed": false,
    "ExecuteTime": {
     "end_time": "2024-01-31T03:07:08.517393Z",
     "start_time": "2024-01-31T03:07:08.484022Z"
    }
   },
   "id": "ea451ca78399320b"
  },
  {
   "cell_type": "code",
   "execution_count": 29,
   "outputs": [
    {
     "name": "stdout",
     "output_type": "stream",
     "text": [
      "Before deleting maxpulse, data_df columns: Index(['Duration', 'Pulse', 'Maxpulse', 'Calories'], dtype='object')\n",
      "After deleting maxpulse, data_df columns: Index(['Duration', 'Pulse', 'Calories'], dtype='object')\n"
     ]
    }
   ],
   "source": [
    "# i. Delete the “Maxpulse” column from the main df dataframe\n",
    "print('Before deleting maxpulse, data_df columns: {}'.format(data_df.columns))\n",
    "data_df.drop(columns=['Maxpulse'], inplace=True)\n",
    "print('After deleting maxpulse, data_df columns: {}'.format(data_df.columns))"
   ],
   "metadata": {
    "collapsed": false,
    "ExecuteTime": {
     "end_time": "2024-01-31T03:07:26.546231Z",
     "start_time": "2024-01-31T03:07:26.536767Z"
    }
   },
   "id": "70f2aac0cfe44ca8"
  },
  {
   "cell_type": "code",
   "execution_count": 30,
   "outputs": [
    {
     "name": "stdout",
     "output_type": "stream",
     "text": [
      "Before converting to int, Calorie datatype: float64\n",
      "After converting to int, Calorie datatype: int64\n"
     ]
    }
   ],
   "source": [
    "# j. Convert the datatype of Calories column to int datatype.\n",
    "print('Before converting to int, Calorie datatype: {}'.format(data_df['Calories'].dtype))\n",
    "data_df['Calories'] = data_df['Calories'].astype(int)\n",
    "print('After converting to int, Calorie datatype: {}'.format(data_df['Calories'].dtype))"
   ],
   "metadata": {
    "collapsed": false,
    "ExecuteTime": {
     "end_time": "2024-01-31T03:07:42.814477Z",
     "start_time": "2024-01-31T03:07:42.802974Z"
    }
   },
   "id": "3b9a0c21e117a1e4"
  },
  {
   "cell_type": "code",
   "execution_count": 31,
   "outputs": [
    {
     "data": {
      "text/plain": "<Figure size 640x480 with 1 Axes>",
      "image/png": "[encoded data removed]"
     },
     "metadata": {},
     "output_type": "display_data"
    }
   ],
   "source": [
    "# k. Using pandas, create a scatter plot for the two columns (Duration and Calories).\n",
    "\n",
    "# Import scatterplot\n",
    "import matplotlib.pyplot as plt\n",
    "\n",
    "# Draw basic plot - Duration Vs Calories\n",
    "plt.scatter(data_df['Duration'], data_df['Calories'])\n",
    "\n",
    "# Set x and y labels\n",
    "plt.xlabel('Duration')\n",
    "plt.ylabel('Calories')\n",
    "\n",
    "# Set plot title\n",
    "plt.title('Scatter Plot of Duration vs. Calories')\n",
    "\n",
    "# Display the graph\n",
    "plt.show()"
   ],
   "metadata": {
    "collapsed": false,
    "ExecuteTime": {
     "end_time": "2024-01-31T03:08:23.175638Z",
     "start_time": "2024-01-31T03:08:23.034147Z"
    }
   },
   "id": "ed0fe3c0bf7ed88f"
  },
  {
   "cell_type": "markdown",
   "source": [
    "## 2. Linear Regression"
   ],
   "metadata": {
    "collapsed": false
   },
   "id": "cd11fd02cc570c98"
  },
  {
   "cell_type": "code",
   "execution_count": 12,
   "outputs": [],
   "source": [
    "# Required imports\n",
    "\n",
    "# Dataframe related\n",
    "import pandas as pd\n",
    "\n",
    "# Model related\n",
    "from sklearn.model_selection import train_test_split\n",
    "from sklearn.linear_model import LinearRegression\n",
    "from sklearn.metrics import mean_squared_error\n",
    "\n",
    "# Plotting related\n",
    "import matplotlib.pyplot as plt"
   ],
   "metadata": {
    "collapsed": false,
    "ExecuteTime": {
     "end_time": "2024-01-31T03:00:23.455710Z",
     "start_time": "2024-01-31T03:00:22.143543Z"
    }
   },
   "id": "3bd5c66ca2019cc2"
  },
  {
   "cell_type": "code",
   "execution_count": 32,
   "outputs": [
    {
     "data": {
      "text/plain": "(30, 2)"
     },
     "execution_count": 32,
     "metadata": {},
     "output_type": "execute_result"
    }
   ],
   "source": [
    "# a. Import the given \"Salary_Data.csv\"\n",
    "\n",
    "# Path of the csv\n",
    "salary_data_path = 'data/Salary_Data.csv'\n",
    "\n",
    "# Read csv using pandas\n",
    "salary_data_df = pd.read_csv(salary_data_path)\n",
    "\n",
    "# Shape (rows, columns)\n",
    "salary_data_df.shape"
   ],
   "metadata": {
    "collapsed": false,
    "ExecuteTime": {
     "end_time": "2024-01-31T03:08:59.141489Z",
     "start_time": "2024-01-31T03:08:59.118286Z"
    }
   },
   "id": "371d4762085bc62"
  },
  {
   "cell_type": "code",
   "execution_count": 33,
   "outputs": [],
   "source": [
    "# b. Split the data in train_test partitions, such that 1/3 of the data is reserved as test subset.\n",
    "X = salary_data_df.iloc[:, :-1]\n",
    "y = salary_data_df.iloc[:, 1]\n",
    "X_train, X_test, y_train, y_test = train_test_split(X, y, test_size=1/3, random_state=0)"
   ],
   "metadata": {
    "collapsed": false,
    "ExecuteTime": {
     "end_time": "2024-01-31T03:09:43.240809Z",
     "start_time": "2024-01-31T03:09:43.208892Z"
    }
   },
   "id": "ffb87d7c2e444a0c"
  },
  {
   "cell_type": "code",
   "execution_count": 34,
   "outputs": [],
   "source": [
    "# c. Train and predict the model\n",
    "\n",
    "# Train the model\n",
    "regressor = LinearRegression()\n",
    "regressor.fit(X_train, y_train)\n",
    "\n",
    "# Predict using the trained model\n",
    "y_pred_train = regressor.predict(X_train)\n",
    "y_pred_test = regressor.predict(X_test)"
   ],
   "metadata": {
    "collapsed": false,
    "ExecuteTime": {
     "end_time": "2024-01-31T03:09:44.571842Z",
     "start_time": "2024-01-31T03:09:44.563655Z"
    }
   },
   "id": "c877fa0d0e700533"
  },
  {
   "cell_type": "code",
   "execution_count": 35,
   "outputs": [
    {
     "name": "stdout",
     "output_type": "stream",
     "text": [
      "mean_squared_error_train: 36852948.76438455\n",
      "mean_squared_error_test: 21026037.329511296\n"
     ]
    }
   ],
   "source": [
    "# d. Calculate the mean_squared error\n",
    "mean_squared_error_train = mean_squared_error(y_train, y_pred_train)\n",
    "mean_squared_error_test = mean_squared_error(y_test, y_pred_test)\n",
    "print(\"mean_squared_error_train:\", mean_squared_error_train)\n",
    "print(\"mean_squared_error_test:\", mean_squared_error_test)"
   ],
   "metadata": {
    "collapsed": false,
    "ExecuteTime": {
     "end_time": "2024-01-31T03:09:46.242048Z",
     "start_time": "2024-01-31T03:09:46.226167Z"
    }
   },
   "id": "bbd8fc0cbf8a6223"
  },
  {
   "cell_type": "code",
   "execution_count": 36,
   "outputs": [
    {
     "data": {
      "text/plain": "<Figure size 640x480 with 1 Axes>",
      "image/png": "[encoded data removed]"
     },
     "metadata": {},
     "output_type": "display_data"
    }
   ],
   "source": [
    "# e. Visualize both train and test data using\n",
    "\n",
    "# Plot the points\n",
    "plt.scatter(X_train, y_train, color='blue', label='Train Data')\n",
    "plt.scatter(X_test, y_test, color='red', label='Test Data')\n",
    "\n",
    "# Add the regression line\n",
    "plt.plot(X_train, y_pred_train, color='green', label='Regression Line (Train)')\n",
    "\n",
    "plt.xlabel('Years of Experience (YoE)')\n",
    "plt.ylabel('Salary')\n",
    "plt.title('Linear Regression')\n",
    "\n",
    "# Display\n",
    "plt.show()"
   ],
   "metadata": {
    "collapsed": false,
    "ExecuteTime": {
     "end_time": "2024-01-31T03:09:56.755362Z",
     "start_time": "2024-01-31T03:09:56.638137Z"
    }
   },
   "id": "5ff8f36df57f9159"
  },
  {
   "cell_type": "code",
   "execution_count": null,
   "outputs": [],
   "source": [],
   "metadata": {
    "collapsed": false
   },
   "id": "62947d0610e8082e"
  }
 ],
 "metadata": {
  "kernelspec": {
   "display_name": "Python 3",
   "language": "python",
   "name": "python3"
  },
  "language_info": {
   "codemirror_mode": {
    "name": "ipython",
    "version": 2
   },
   "file_extension": ".py",
   "mimetype": "text/x-python",
   "name": "python",
   "nbconvert_exporter": "python",
   "pygments_lexer": "ipython2",
   "version": "2.7.6"
  }
 },
 "nbformat": 4,
 "nbformat_minor": 5
}
